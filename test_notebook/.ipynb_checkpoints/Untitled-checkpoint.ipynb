{
 "cells": [
  {
   "cell_type": "code",
   "execution_count": 38,
   "metadata": {
    "collapsed": false
   },
   "outputs": [],
   "source": [
    "from gurobipy import *\n",
    "\n",
    "Groundset = range(20)\n",
    "Subsets   = range(4)\n",
    "Budget    = 12;\n",
    "Set = [ [ 1, 1, 1, 1, 1, 1, 1, 1, 1, 1, 0, 0, 0, 0, 0, 0, 0, 0, 0, 0 ],\n",
    "        [ 0, 0, 0, 0, 0, 1, 1, 1, 1, 1, 0, 0, 0, 0, 0, 1, 1, 1, 1, 1 ],\n",
    "        [ 0, 0, 0, 1, 1, 0, 1, 1, 0, 0, 0, 0, 0, 1, 1, 0, 1, 1, 0, 0 ],\n",
    "        [ 0, 0, 0, 1, 1, 1, 0, 0, 0, 1, 1, 1, 0, 0, 0, 1, 1, 1, 0, 0 ] ]\n",
    "SetObjPriority = [  3,    2,    2,   1]\n",
    "SetObjWeight   = [1.0, 0.25, 1.25, 1.0]"
   ]
  },
  {
   "cell_type": "code",
   "execution_count": 41,
   "metadata": {
    "collapsed": false
   },
   "outputs": [
    {
     "name": "stdout",
     "output_type": "stream",
     "text": [
      "Changed value of parameter PoolSolutions to 100\n",
      "   Prev: 10  Min: 1  Max: 2000000000  Default: 10\n"
     ]
    }
   ],
   "source": [
    "model = Model('multiobj')\n",
    "\n",
    "Elem = model.addVars(Groundset, vtype=GRB.BINARY, name='E1')\n",
    "\n",
    "model.addConstr(Elem.sum()<=Budget, name='Budget')\n",
    "\n",
    "model.ModelSense = GRB.MAXIMIZE\n",
    "\n",
    "model.setParam(GRB.Param.PoolSolutions, 100)\n",
    "\n",
    "model.NumObj = 4\n",
    "\n",
    "model.update()"
   ]
  },
  {
   "cell_type": "code",
   "execution_count": 42,
   "metadata": {
    "collapsed": false
   },
   "outputs": [
    {
     "name": "stdout",
     "output_type": "stream",
     "text": [
      "multiobj\n",
      "{0: 'E1[0]', 1: 'E1[1]', 2: 'E1[2]', 3: 'E1[3]', 4: 'E1[4]', 5: 'E1[5]', 6: 'E1[6]', 7: 'E1[7]', 8: 'E1[8]', 9: 'E1[9]', 10: 'E1[10]', 11: 'E1[11]', 12: 'E1[12]', 13: 'E1[13]', 14: 'E1[14]', 15: 'E1[15]', 16: 'E1[16]', 17: 'E1[17]', 18: 'E1[18]', 19: 'E1[19]'}\n",
      "-1\n",
      "100\n",
      "4\n"
     ]
    }
   ],
   "source": [
    "print(model.getAttr('ModelName'))\n",
    "print(model.getAttr('VarName', Elem))\n",
    "print(model.getAttr('ModelSense'))\n",
    "print(model.params.PoolSolutions)\n",
    "print(model.NumObj)"
   ]
  },
  {
   "cell_type": "code",
   "execution_count": 57,
   "metadata": {
    "collapsed": false
   },
   "outputs": [
    {
     "name": "stdout",
     "output_type": "stream",
     "text": [
      "Changed value of parameter ObjNumber to 0\n",
      "   Prev: 3  Min: 0  Max: 2000000000  Default: 0\n",
      "Attribute ObjN is not a Model attribute\n",
      "Changed value of parameter ObjNumber to 1\n",
      "   Prev: 0  Min: 0  Max: 2000000000  Default: 0\n",
      "Attribute ObjN is not a Model attribute\n",
      "Changed value of parameter ObjNumber to 2\n",
      "   Prev: 1  Min: 0  Max: 2000000000  Default: 0\n",
      "Attribute ObjN is not a Model attribute\n",
      "Changed value of parameter ObjNumber to 3\n",
      "   Prev: 2  Min: 0  Max: 2000000000  Default: 0\n",
      "Attribute ObjN is not a Model attribute\n"
     ]
    }
   ],
   "source": [
    "for i in Subsets:\n",
    "        model.setParam(GRB.Param.ObjNumber, i)\n",
    "        model.ObjNPriority = SetObjPriority[i]\n",
    "        model.ObjNWeight   = SetObjWeight[i]\n",
    "\n",
    "        model.ObjNName = 'Set' + str(i)\n",
    "        model.ObjNRelTol = 0.01\n",
    "        model.ObjNAbsTol = 1.0 + i\n",
    "        model.setAttr(GRB.Attr.ObjN, quicksum(Elem[j]*Set[i][j] for j in Groundset))\n",
    "        "
   ]
  },
  {
   "cell_type": "code",
   "execution_count": 58,
   "metadata": {
    "collapsed": false
   },
   "outputs": [
    {
     "name": "stdout",
     "output_type": "stream",
     "text": [
      "Optimize a model with 1 rows, 20 columns and 20 nonzeros\n",
      "Variable types: 0 continuous, 20 integer (20 binary)\n",
      "Coefficient statistics:\n",
      "  Matrix range     [1e+00, 1e+00]\n",
      "  Objective range  [1e+00, 1e+00]\n",
      "  Bounds range     [1e+00, 1e+00]\n",
      "  RHS range        [1e+01, 1e+01]\n",
      "\n",
      "---------------------------------------------------------------------------\n",
      "Multi-objectives: starting optimization with 4 objectives (3 combined) ...\n",
      "---------------------------------------------------------------------------\n",
      "\n",
      "Multi-objectives: applying initial presolve ...\n",
      "---------------------------------------------------------------------------\n",
      "\n",
      "Presolve time: 0.00s\n",
      "Presolved: 1 rows and 20 columns\n",
      "---------------------------------------------------------------------------\n",
      "\n",
      "Multi-objectives: optimize objective 1 (Set0) ...\n",
      "---------------------------------------------------------------------------\n",
      "\n",
      "Found heuristic solution: objective 10\n",
      "\n",
      "Explored 0 nodes (0 simplex iterations) in 0.03 seconds\n",
      "Thread count was 1 (of 4 available processors)\n",
      "\n",
      "Solution count 1: 10 \n",
      "Pool objective bound 10\n",
      "\n",
      "Optimal solution found (tolerance 1.00e-04)\n",
      "Best objective 1.000000000000e+01, best bound 1.000000000000e+01, gap 0.0000%\n",
      "---------------------------------------------------------------------------\n",
      "\n",
      "Multi-objectives: optimize objective 2 (weighted) ...\n",
      "---------------------------------------------------------------------------\n",
      "\n",
      "Found heuristic solution: objective 8.75\n",
      "Presolve removed 1 rows and 17 columns\n",
      "Presolve time: 0.00s\n",
      "Presolved: 1 rows, 3 columns, 3 nonzeros\n",
      "\n",
      "MIP start did not produce a new incumbent solution\n",
      "\n",
      "Variable types: 0 continuous, 3 integer (0 binary)\n",
      "\n",
      "Root relaxation: objective 1.050000e+01, 1 iterations, 0.00 seconds\n",
      "\n",
      "    Nodes    |    Current Node    |     Objective Bounds      |     Work\n",
      " Expl Unexpl |  Obj  Depth IntInf | Incumbent    BestBd   Gap | It/Node Time\n",
      "\n",
      "*    0     0               0      10.5000000   10.50000  0.00%     -    0s\n",
      "\n",
      "Explored 0 nodes (1 simplex iterations) in 0.27 seconds\n",
      "Thread count was 4 (of 4 available processors)\n",
      "\n",
      "Solution count 2: 10.5 8.75 \n",
      "Pool objective bound 10.5\n",
      "\n",
      "Optimal solution found (tolerance 1.00e-04)\n",
      "Best objective 1.050000000000e+01, best bound 1.050000000000e+01, gap 0.0000%\n",
      "---------------------------------------------------------------------------\n",
      "\n",
      "Multi-objectives: optimize objective 3 (Set3) ...\n",
      "---------------------------------------------------------------------------\n",
      "\n",
      "Found heuristic solution: objective 5\n",
      "Presolve removed 3 rows and 20 columns\n",
      "Presolve time: 0.00s\n",
      "Presolve: All rows and columns removed\n",
      "\n",
      "Explored 0 nodes (0 simplex iterations) in 0.30 seconds\n",
      "Thread count was 1 (of 4 available processors)\n",
      "\n",
      "Solution count 1: 7 \n",
      "Pool objective bound 7\n",
      "\n",
      "Optimal solution found (tolerance 1.00e-04)\n",
      "Best objective 7.000000000000e+00, best bound 7.000000000000e+00, gap 0.0000%\n",
      "\n",
      "---------------------------------------------------------------------------\n",
      "Multi-objectives: solved in 0.36 seconds, solution count 4\n",
      "\n"
     ]
    }
   ],
   "source": [
    "model.optimize()"
   ]
  },
  {
   "cell_type": "code",
   "execution_count": 59,
   "metadata": {
    "collapsed": false
   },
   "outputs": [
    {
     "name": "stdout",
     "output_type": "stream",
     "text": [
      "Changed value of parameter ObjNumber to 0\n",
      "   Prev: 3  Min: 0  Max: 2000000000  Default: 0\n",
      "9.0\n",
      "Changed value of parameter ObjNumber to 1\n",
      "   Prev: 0  Min: 0  Max: 2000000000  Default: 0\n",
      "7.0\n",
      "Changed value of parameter ObjNumber to 2\n",
      "   Prev: 1  Min: 0  Max: 2000000000  Default: 0\n",
      "6.0\n",
      "Changed value of parameter ObjNumber to 3\n",
      "   Prev: 2  Min: 0  Max: 2000000000  Default: 0\n",
      "7.0\n"
     ]
    }
   ],
   "source": [
    "for i in Subsets:\n",
    "    model.setParam(GRB.Param.ObjNumber, i)\n",
    "    print(model.ObjNVal)"
   ]
  },
  {
   "cell_type": "code",
   "execution_count": 62,
   "metadata": {
    "collapsed": false
   },
   "outputs": [
    {
     "name": "stdout",
     "output_type": "stream",
     "text": [
      "Parameter ObjNumber unchanged\n",
      "   Value: 0  Min: 0  Max: 2000000000  Default: 0\n",
      "Attribute ObjN is not a Model attribute\n",
      "Changed value of parameter ObjNumber to 1\n",
      "   Prev: 0  Min: 0  Max: 2000000000  Default: 0\n",
      "Attribute ObjN is not a Model attribute\n",
      "Changed value of parameter ObjNumber to 2\n",
      "   Prev: 1  Min: 0  Max: 2000000000  Default: 0\n",
      "Attribute ObjN is not a Model attribute\n",
      "Changed value of parameter ObjNumber to 3\n",
      "   Prev: 2  Min: 0  Max: 2000000000  Default: 0\n",
      "Attribute ObjN is not a Model attribute\n",
      "Optimize a model with 1 rows, 20 columns and 20 nonzeros\n",
      "Variable types: 0 continuous, 20 integer (20 binary)\n",
      "Coefficient statistics:\n",
      "  Matrix range     [1e+00, 1e+00]\n",
      "  Objective range  [1e+00, 1e+00]\n",
      "  Bounds range     [1e+00, 1e+00]\n",
      "  RHS range        [1e+01, 1e+01]\n",
      "\n",
      "---------------------------------------------------------------------------\n",
      "Multi-objectives: starting optimization with 4 objectives (3 combined) ...\n",
      "---------------------------------------------------------------------------\n",
      "\n",
      "Multi-objectives: applying initial presolve ...\n",
      "---------------------------------------------------------------------------\n",
      "\n",
      "Presolve time: 0.00s\n",
      "Presolved: 1 rows and 20 columns\n",
      "---------------------------------------------------------------------------\n",
      "\n",
      "Multi-objectives: optimize objective 1 (Set0) ...\n",
      "---------------------------------------------------------------------------\n",
      "\n",
      "Found heuristic solution: objective 10\n",
      "\n",
      "Explored 0 nodes (0 simplex iterations) in 0.03 seconds\n",
      "Thread count was 1 (of 4 available processors)\n",
      "\n",
      "Solution count 1: 10 \n",
      "Pool objective bound 10\n",
      "\n",
      "Optimal solution found (tolerance 1.00e-04)\n",
      "Best objective 1.000000000000e+01, best bound 1.000000000000e+01, gap 0.0000%\n",
      "---------------------------------------------------------------------------\n",
      "\n",
      "Multi-objectives: optimize objective 2 (weighted) ...\n",
      "---------------------------------------------------------------------------\n",
      "\n",
      "Found heuristic solution: objective 8.75\n",
      "Presolve removed 1 rows and 17 columns\n",
      "Presolve time: 0.00s\n",
      "Presolved: 1 rows, 3 columns, 3 nonzeros\n",
      "\n",
      "MIP start did not produce a new incumbent solution\n",
      "\n",
      "Variable types: 0 continuous, 3 integer (0 binary)\n",
      "\n",
      "Root relaxation: objective 1.050000e+01, 1 iterations, 0.00 seconds\n",
      "\n",
      "    Nodes    |    Current Node    |     Objective Bounds      |     Work\n",
      " Expl Unexpl |  Obj  Depth IntInf | Incumbent    BestBd   Gap | It/Node Time\n",
      "\n",
      "*    0     0               0      10.5000000   10.50000  0.00%     -    0s\n",
      "\n",
      "Explored 0 nodes (1 simplex iterations) in 0.06 seconds\n",
      "Thread count was 4 (of 4 available processors)\n",
      "\n",
      "Solution count 2: 10.5 8.75 \n",
      "Pool objective bound 10.5\n",
      "\n",
      "Optimal solution found (tolerance 1.00e-04)\n",
      "Best objective 1.050000000000e+01, best bound 1.050000000000e+01, gap 0.0000%\n",
      "---------------------------------------------------------------------------\n",
      "\n",
      "Multi-objectives: optimize objective 3 (Set3) ...\n",
      "---------------------------------------------------------------------------\n",
      "\n",
      "Found heuristic solution: objective 5\n",
      "Presolve removed 3 rows and 20 columns\n",
      "Presolve time: 0.00s\n",
      "Presolve: All rows and columns removed\n",
      "\n",
      "Explored 0 nodes (0 simplex iterations) in 0.09 seconds\n",
      "Thread count was 1 (of 4 available processors)\n",
      "\n",
      "Solution count 1: 7 \n",
      "Pool objective bound 7\n",
      "\n",
      "Optimal solution found (tolerance 1.00e-04)\n",
      "Best objective 7.000000000000e+00, best bound 7.000000000000e+00, gap 0.0000%\n",
      "\n",
      "---------------------------------------------------------------------------\n",
      "Multi-objectives: solved in 0.11 seconds, solution count 4\n",
      "\n"
     ]
    }
   ],
   "source": [
    "for i in Subsets:\n",
    "    model.setParam(GRB.Param.ObjNumber, i)\n",
    "    model.setAttr('ObjNPriority', SetObjPriority[i])\n",
    "    model.setAttr('ObjNWeight', SetObjWeight[i])\n",
    "    model.setAttr('ObjNRelTol', 0.01)\n",
    "    model.setAttr('ObjNAbsTol', 1+i)\n",
    "    model.setAttr('ObjNName', 'Set'+str(i))\n",
    "    model.setAttr(GRB.Attr.ObjN, quicksum(Elem[j]*Set[i][j] for j in Groundset))\n",
    "    \n",
    "model.optimize()"
   ]
  },
  {
   "cell_type": "code",
   "execution_count": 63,
   "metadata": {
    "collapsed": false
   },
   "outputs": [
    {
     "name": "stdout",
     "output_type": "stream",
     "text": [
      "Changed value of parameter ObjNumber to 0\n",
      "   Prev: 3  Min: 0  Max: 2000000000  Default: 0\n",
      "9.0\n",
      "Changed value of parameter ObjNumber to 1\n",
      "   Prev: 0  Min: 0  Max: 2000000000  Default: 0\n",
      "7.0\n",
      "Changed value of parameter ObjNumber to 2\n",
      "   Prev: 1  Min: 0  Max: 2000000000  Default: 0\n",
      "6.0\n",
      "Changed value of parameter ObjNumber to 3\n",
      "   Prev: 2  Min: 0  Max: 2000000000  Default: 0\n",
      "7.0\n"
     ]
    }
   ],
   "source": [
    "for i in Subsets:\n",
    "    model.setParam(GRB.Param.ObjNumber, i)\n",
    "    print(model.ObjNVal)"
   ]
  },
  {
   "cell_type": "code",
   "execution_count": 114,
   "metadata": {
    "collapsed": false
   },
   "outputs": [],
   "source": [
    "timelimit_baseline = 1800\n",
    "timelimit0 = 120\n",
    "time_factor = 1.4\n",
    "n_iter_per_stage = 10\n",
    "import numpy as np\n",
    "timelimit = [max(timelimit_baseline, timelimit0*2**(np.floor(idx/n_iter_per_stage)/time_factor) ) for idx in range(100)]\n"
   ]
  },
  {
   "cell_type": "code",
   "execution_count": 115,
   "metadata": {
    "collapsed": true
   },
   "outputs": [],
   "source": [
    "import matplotlib.pyplot as plt\n",
    "%matplotlib inline"
   ]
  },
  {
   "cell_type": "code",
   "execution_count": 116,
   "metadata": {
    "collapsed": false
   },
   "outputs": [
    {
     "data": {
      "text/plain": [
       "[<matplotlib.lines.Line2D at 0x1e621f51ba8>]"
      ]
     },
     "execution_count": 116,
     "metadata": {},
     "output_type": "execute_result"
    },
    {
     "data": {
      "image/png": "[encoded data removed]",
      "text/plain": [
       "<matplotlib.figure.Figure at 0x1e621f055c0>"
      ]
     },
     "metadata": {},
     "output_type": "display_data"
    }
   ],
   "source": [
    "plt.figure(1)\n",
    "plt.plot(np.arange(0, 100)/n_iter_per_stage, timelimit)"
   ]
  },
  {
   "cell_type": "code",
   "execution_count": 117,
   "metadata": {
    "collapsed": false
   },
   "outputs": [
    {
     "data": {
      "text/plain": [
       "3.6708058210446137"
      ]
     },
     "execution_count": 117,
     "metadata": {},
     "output_type": "execute_result"
    }
   ],
   "source": [
    "sum(timelimit)/3600/24"
   ]
  },
  {
   "cell_type": "code",
   "execution_count": 118,
   "metadata": {
    "collapsed": false
   },
   "outputs": [
    {
     "data": {
      "text/plain": [
       "2.631982598925497"
      ]
     },
     "execution_count": 118,
     "metadata": {},
     "output_type": "execute_result"
    }
   ],
   "source": [
    "timelimit[-1]/3600"
   ]
  },
  {
   "cell_type": "code",
   "execution_count": null,
   "metadata": {
    "collapsed": true
   },
   "outputs": [],
   "source": []
  }
 ],
 "metadata": {
  "kernelspec": {
   "display_name": "Python 3",
   "language": "python",
   "name": "python3"
  },
  "language_info": {
   "codemirror_mode": {
    "name": "ipython",
    "version": 3
   },
   "file_extension": ".py",
   "mimetype": "text/x-python",
   "name": "python",
   "nbconvert_exporter": "python",
   "pygments_lexer": "ipython3",
   "version": "3.5.2"
  }
 },
 "nbformat": 4,
 "nbformat_minor": 2
}
